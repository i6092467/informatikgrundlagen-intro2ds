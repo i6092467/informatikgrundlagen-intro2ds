{
 "cells": [
  {
   "cell_type": "markdown",
   "id": "3fcaa221",
   "metadata": {},
   "source": [
    "# Jupyter Notebooks\n",
    "\n",
    "## What is Jupyter?\n",
    "\n",
    "What you see here is a [Jupyter Notebook](https://jupyter.org/). Like CodeExpert, Jupyter Notebook is an interactive programming environment for Python and other programming languages. While CodeExpert makes it easier for you to get started with programming, Jupyter Notebook is widely used in practice to share your work with others and interactively process, visualize, and explore data.\n",
    "\n",
    "Jupyter Notebook combines code, output, and comments into a fully editable document (with a .ipynb extension). That means you can change the code and the comments to adapt the output (print output, plots, etc.) accordingly. Jupyter Notebook can also be exported as a PDF or HTML file.\n",
    "\n",
    "**In short:**\n",
    "- an interactive programming environment for Python (and other programming languages)\n",
    "- reproducible data analysis\n",
    "- combines code, output, and comments into one document that can be shared with and edited by others\n",
    "\n"
   ]
  },
  {
   "cell_type": "markdown",
   "id": "8af2db69",
   "metadata": {},
   "source": [
    "## Cells\n",
    "\n",
    "A Jupyter Notebook usually consists of several *cells*, of which code and markdown cells are the most important types.\n",
    "\n",
    "* **Markdown Cells** are used for comments, like the text you are reading. In Markdown cells, the text can be formatted, e.g. by adjusting the <span style=\"font-family:Comic Sans MS\">font</span> and <span style=\"font-size:1.5em\">font size</span>, and even links and images can be embedded. The [Markdown syntax](https://github.com/adam-p/markdown-here/wiki/Markdown-Cheatsheet) can be used for this.\n",
    "\n",
    "![An XKCD comic](https://imgs.xkcd.com/comics/python.png)\n",
    "\n",
    "* **Code Cells** contain Python code to be executed."
   ]
  },
  {
   "cell_type": "markdown",
   "id": "c7755fd5",
   "metadata": {},
   "source": [
    "## Warmup\n",
    "\n",
    "Below is a code cell defining two variables, `x` and `y`, and a function `compute_maximum` that returns the maximum of a given list of numbers:"
   ]
  },
  {
   "cell_type": "code",
   "execution_count": null,
   "id": "3844827d",
   "metadata": {},
   "outputs": [],
   "source": [
    "x = 3\n",
    "y = 7\n",
    "\n",
    "def compute_maximum(some_list):\n",
    "    if len(some_list) == 0:\n",
    "        print(\"List is empty\")\n",
    "    else:\n",
    "        current_maximum = some_list[0]\n",
    "        for element in some_list:\n",
    "            if element > current_maximum:\n",
    "                current_maximum = element\n",
    "        return current_maximum"
   ]
  },
  {
   "cell_type": "markdown",
   "id": "b98862dd",
   "metadata": {},
   "source": [
    "***Exercise 1.0.*** Execute the code cell above using `CTRL + Enter` on Windows or `CMD + Enter` on MacOS. You can now refer to the initialized variables and functions throughout the rest of the notebook."
   ]
  },
  {
   "cell_type": "markdown",
   "id": "a645c85f",
   "metadata": {},
   "source": [
    "***Exercise 1.1.*** Now, insert a *new* code cell below. Initialize a variable with a list containing `x + y`, `x * y`, and `x - y`; then, apply the function `compute_maximum` above to the list you have defined."
   ]
  },
  {
   "cell_type": "markdown",
   "id": "d2d24492",
   "metadata": {},
   "source": [
    "***Exercise 1.2.*** Execute the code cell below *multiple* times in a row and observe the output. What is happening and why?"
   ]
  },
  {
   "cell_type": "code",
   "execution_count": null,
   "id": "122a618c",
   "metadata": {},
   "outputs": [],
   "source": [
    "x = x * 3\n",
    "print(str(x))"
   ]
  },
  {
   "cell_type": "markdown",
   "id": "2b5eb91d",
   "metadata": {},
   "source": [
    "***Exercise 1.3.*** Now, insert a new *Markdown* cell below. Format the cell to include a list and text in *italic* and/or **bold** typeface."
   ]
  },
  {
   "cell_type": "markdown",
   "id": "90a2ce0a",
   "metadata": {},
   "source": [
    "**Important:** Unlike CodeExpert, where you have to run the entire script, Jupyter Notebook allows you to run cells in *any* order. Therefore, before sharing the notebook with others, it is recommended to restart it and run it from the top to bottom (via the `Kernel > Restart & Run All` menu field) to ensure that the results are *reproducible*."
   ]
  }
 ],
 "metadata": {
  "kernelspec": {
   "display_name": "Python 3 (ipykernel)",
   "language": "python",
   "name": "python3"
  },
  "language_info": {
   "codemirror_mode": {
    "name": "ipython",
    "version": 3
   },
   "file_extension": ".py",
   "mimetype": "text/x-python",
   "name": "python",
   "nbconvert_exporter": "python",
   "pygments_lexer": "ipython3",
   "version": "3.8.12"
  }
 },
 "nbformat": 4,
 "nbformat_minor": 5
}
