{
 "cells": [
  {
   "cell_type": "markdown",
   "id": "3fcaa221",
   "metadata": {},
   "source": [
    "# Jupyter Notebooks\n",
    "\n",
    "## What is Jupyter?\n",
    "\n",
    "What you see here is a [Jupyter notebook](https://jupyter.org/). Like CodeExpert, Jupyter is an interactive programming environment for Python and other programming languages. While CodeExpert makes it easier for you to get started with programming, Jupyter notebooks are widely used in practice to share code with others and interactively process, visualize, and explore data.\n",
    "\n",
    "Jupyter notebooks combine code, output, and comments into a fully editable document (with an .ipynb extension). That means you can change the code and the comments to adapt the output (print output, plots, etc.) accordingly. Jupyter notebooks can also be exported as PDF or HTML files.\n",
    "\n",
    "**In short:**\n",
    "- an interactive programming environment for Python (and other programming languages)\n",
    "- reproducible data analysis\n",
    "- combines code, output, and comments into one document that can be shared with and edited by others\n",
    "\n"
   ]
  },
  {
   "cell_type": "markdown",
   "id": "8af2db69",
   "metadata": {},
   "source": [
    "## Cells\n",
    "\n",
    "A Jupyter notebook usually consists of several *cells*, of which code and markdown cells are the most important types.\n",
    "\n",
    "* **Markdown cells** are used for comments, like the text you are reading. In Markdown cells, the text can be formatted, e.g. by adjusting the <span style=\"font-family:Comic Sans MS\">font</span> and <span style=\"font-size:1.5em\">font size</span>, and even links and images can be embedded. [Markdown syntax](https://github.com/adam-p/markdown-here/wiki/Markdown-Cheatsheet) can be used for this.\n",
    "\n",
    "![An XKCD comic](https://imgs.xkcd.com/comics/python.png)\n",
    "\n",
    "* **Code cells** contain Python code to be executed."
   ]
  },
  {
   "cell_type": "markdown",
   "id": "d916a2ec",
   "metadata": {},
   "source": [
    "![Jupyterhub interface](jupyterhub.png)"
   ]
  },
  {
   "cell_type": "markdown",
   "id": "c7755fd5",
   "metadata": {},
   "source": [
    "## Warmup\n",
    "\n",
    "Below is a code cell defining two variables, `x` and `y`, and a function `compute_maximum` that returns the maximum of a given list of numbers:"
   ]
  },
  {
   "cell_type": "code",
   "execution_count": null,
   "id": "3844827d",
   "metadata": {},
   "outputs": [],
   "source": [
    "x = 3\n",
    "y = 7\n",
    "\n",
    "def compute_maximum(some_list):\n",
    "    if len(some_list) == 0:\n",
    "        print(\"List is empty\")\n",
    "    else:\n",
    "        current_maximum = some_list[0]\n",
    "        for element in some_list:\n",
    "            if element > current_maximum:\n",
    "                current_maximum = element\n",
    "        return current_maximum"
   ]
  },
  {
   "cell_type": "markdown",
   "id": "b98862dd",
   "metadata": {},
   "source": [
    "***Exercise 1.0.*** Execute the code cell above using `CTRL + Enter` on Windows or `CMD + Enter` on MacOS. You can now refer to the initialized variables and functions throughout the rest of the notebook."
   ]
  },
  {
   "cell_type": "markdown",
   "id": "a645c85f",
   "metadata": {},
   "source": [
    "***Exercise 1.1.*** Now, insert a *new* code cell below (using the **+** menu button). In this cell, initialize a variable with a list containing `x + y`, `x * y`, and `x - y`. Then, apply the function `compute_maximum` above to the list you have defined."
   ]
  },
  {
   "cell_type": "markdown",
   "id": "d2d24492",
   "metadata": {},
   "source": [
    "***Exercise 1.2.*** Execute the code cell below *multiple* times in a row and observe the output. What is happening and why?"
   ]
  },
  {
   "cell_type": "code",
   "execution_count": null,
   "id": "122a618c",
   "metadata": {},
   "outputs": [],
   "source": [
    "x = x * 3\n",
    "print(str(x))"
   ]
  },
  {
   "cell_type": "markdown",
   "id": "2b5eb91d",
   "metadata": {},
   "source": [
    "***Exercise 1.3.*** Now, insert a new *Markdown* cell below. Format the cell to include a list and text in italic and/or bold typeface."
   ]
  },
  {
   "cell_type": "markdown",
   "id": "90a2ce0a",
   "metadata": {},
   "source": [
    "**Important:** Unlike CodeExpert, where you have to run the entire script, a Jupyter notebook allows you to run cells in *any* order. Therefore, before sharing the notebook with others, it is recommended to restart it and run it from the top to bottom (via the \"restart the kernel\" menu button) to ensure that the results are *reproducible*."
   ]
  },
  {
   "cell_type": "markdown",
   "id": "15870c88",
   "metadata": {},
   "source": [
    "# Data Analysis in Jupyter\n",
    "\n",
    "## Introduction\n",
    "\n",
    "Below we show how data analysis can be conducted in a Jupyter notebook. We will develop a simple predictive model to classify breast tumors into benign and malignant, given some numerical properties. We will explore the [Breast Cancer Wisconsin](https://archive.ics.uci.edu/ml/datasets/breast+cancer+wisconsin+%28diagnostic%29) dataset, which you can find saved as the file `data_simplified.csv`.\n",
    "\n",
    "We will almost exclusively use modules you have already learned about in the lecture. An exception is the `sklearn` module useful for designing predictive models. We will use a simple statistical model –– logistic regression, familiar to you from previous lectures. Next semester, you will learn more about the `sklearn` module in the *Data Science for Medicine* course."
   ]
  },
  {
   "cell_type": "markdown",
   "id": "4b829dc6",
   "metadata": {},
   "source": [
    "## Loading the Modules\n",
    "\n",
    "***Exercise 2.0.*** Load `numpy` and `pandas` modules in the code cell below. In Jupyter notebooks, library imports work similarly to the CodeExpert."
   ]
  },
  {
   "cell_type": "code",
   "execution_count": null,
   "id": "5642ffda",
   "metadata": {},
   "outputs": [],
   "source": [
    "# TODO: your code here"
   ]
  },
  {
   "cell_type": "markdown",
   "id": "b3aed8ce",
   "metadata": {},
   "source": [
    "We will also need `matplotlib` for plotting and `LogisticRegression` from `sklearn` to fit a predictive model. "
   ]
  },
  {
   "cell_type": "code",
   "execution_count": null,
   "id": "1a8c1a98",
   "metadata": {},
   "outputs": [],
   "source": [
    "import matplotlib.pyplot as plt\n",
    "\n",
    "from sklearn.linear_model import LogisticRegression"
   ]
  },
  {
   "cell_type": "markdown",
   "id": "c286ad25",
   "metadata": {},
   "source": [
    "## Loading the Data\n",
    "\n",
    "We will now load the dataset as a `pandas.DataFrame` from the CSV file `data_simplified.csv`."
   ]
  },
  {
   "cell_type": "markdown",
   "id": "4145438a",
   "metadata": {},
   "source": [
    "***Exercise 2.1.*** Read the documentation for the [`pandas.read_csv`](https://pandas.pydata.org/docs/reference/api/pandas.read_csv.html) function. Then, apply the function to load the Breast Cancer Wisconsin dataset below."
   ]
  },
  {
   "cell_type": "code",
   "execution_count": null,
   "id": "7557bdda",
   "metadata": {},
   "outputs": [],
   "source": [
    "# TODO: complete this code cell\n",
    "data = ..."
   ]
  },
  {
   "cell_type": "markdown",
   "id": "a4712717",
   "metadata": {},
   "source": [
    "***Exercise 2.2.*** How can we display just the first few rows of the loaded `pandas.DataFrame`? Implement your solution in the code cell below. *Hint*: you may find the [`pandas.DataFrame`](https://pandas.pydata.org/docs/reference/api/pandas.DataFrame.html) documentation useful."
   ]
  },
  {
   "cell_type": "code",
   "execution_count": null,
   "id": "79c1c138",
   "metadata": {},
   "outputs": [],
   "source": [
    "# TODO: your code here"
   ]
  },
  {
   "cell_type": "markdown",
   "id": "4b16d53d",
   "metadata": {},
   "source": [
    "***Exercise 2.3.*** How many rows and columns does the dataset have? What do rows and columns correspond to? "
   ]
  },
  {
   "cell_type": "code",
   "execution_count": null,
   "id": "4ea05a3f",
   "metadata": {},
   "outputs": [],
   "source": [
    "# TODO: your code here"
   ]
  },
  {
   "cell_type": "markdown",
   "id": "3fd3025e",
   "metadata": {},
   "source": [
    "Looking at the data above, we can already make the following conclusions:\n",
    "* Each row contains numeric information about the properties of a tumor, such as its radius, texture, etc.\n",
    "* The column `diagnosis` tells us whether the tumor is benign (`B`) or malignant (`M`)"
   ]
  },
  {
   "cell_type": "markdown",
   "id": "e5b71fb1",
   "metadata": {},
   "source": [
    "## Exploratory Analysis\n",
    "\n",
    "In the following, we will perform a brief exploratory data analysis before finally turning to predictive modeling.\n",
    "\n",
    "### Histograms\n",
    "\n",
    "A histogram displays how often a particular value occurs in the dataset (see the figure below for more terminology). Using histograms, we can visualize distributions of numerical and categorical variables. We can color study subject subgroups differently depending on their clinical condition. To plot a histogram, we will use the [`matplotlib.pyplot.hist`](https://matplotlib.org/stable/api/_as_gen/matplotlib.pyplot.hist.html) function from the module `matplotlib`.\n",
    "\n",
    "![histogram terminology](http://diagrammm.com/img/diagrams/histogram-terminology.svg)"
   ]
  },
  {
   "cell_type": "markdown",
   "id": "1e74b5e3",
   "metadata": {},
   "source": [
    "***Exercise 2.4.*** Inspect the code cell below carefully. What does it do? Execute the code and observe its output. What conclusions can be made from the resulting plot?"
   ]
  },
  {
   "cell_type": "code",
   "execution_count": null,
   "id": "f9e7bb2d",
   "metadata": {},
   "outputs": [],
   "source": [
    "b = plt.hist(data[data[\"diagnosis\"] == \"B\"].radius_mean, alpha=0.7, label=\"Benign\")\n",
    "m = plt.hist(data[data[\"diagnosis\"] == \"M\"].radius_mean, alpha=0.7, label=\"Malignant\")\n",
    "plt.legend()\n",
    "plt.xlabel(\"Radius Mean Values\")\n",
    "plt.ylabel(\"Frequency\")\n",
    "plt.title(\"Histogram of the Tumor Radius\")\n",
    "plt.show()"
   ]
  },
  {
   "cell_type": "markdown",
   "id": "aeaeb27a",
   "metadata": {},
   "source": [
    "### Correlation Analysis\n",
    "\n",
    "Pearson's correlation coefficient measures the strength of the linear association between two variables. Herein, we are interested in the correlation between the malignancy of a tumor and observed numerical variables."
   ]
  },
  {
   "cell_type": "markdown",
   "id": "dfd1b32a",
   "metadata": {},
   "source": [
    "***Exercise 2.5.*** Function [`pandas.DataFrame.corr`](https://pandas.pydata.org/docs/reference/api/pandas.DataFrame.corr.html) computes the pairwise correlation between variables in the `pandas.DataFrame`. Read the documentation and complete the code cell below to compute correlations for the loaded dataset. Which variable has the strongest correlation with malignancy? Which correlation is the weakest? *Hint*: set the `numeric_only` argument to `False`."
   ]
  },
  {
   "cell_type": "code",
   "execution_count": null,
   "id": "efa17178",
   "metadata": {},
   "outputs": [],
   "source": [
    "# TODO: complete this code cell\n",
    "data['diagnosis'] = (data['diagnosis'] == 'M').astype(int)\n",
    "..."
   ]
  },
  {
   "cell_type": "markdown",
   "id": "b00a5e43",
   "metadata": {},
   "source": [
    "## Predictive Modeling\n",
    "\n",
    "Now, let's predict the tumor type (benign vs. malignant) based on the rest of the variables. "
   ]
  },
  {
   "cell_type": "markdown",
   "id": "ed1c772d",
   "metadata": {},
   "source": [
    "***Exercise 2.6.*** Define two `pandas.DataFrame` variables: `X` and `y`. `X`, the so-called design matrix, should include *all* variables from the dataset *except* for the diagnosis. `y`, the so-called target variable, should be assigned with the diagnosis column from the loaded dataset."
   ]
  },
  {
   "cell_type": "code",
   "execution_count": null,
   "id": "c1dec1c6",
   "metadata": {},
   "outputs": [],
   "source": [
    "# TODO: complete this code cell\n",
    "X = ...\n",
    "y = ..."
   ]
  },
  {
   "cell_type": "markdown",
   "id": "fb608a87",
   "metadata": {},
   "source": [
    "To fit a model on the data, or \"train\" it (a common term in Machine Learning), we need to first initialize a desired model from the `sklearn` module and then use the `fit` function."
   ]
  },
  {
   "cell_type": "markdown",
   "id": "3c131e78",
   "metadata": {},
   "source": [
    "***Exercise 2.7.*** Read the documentation for [`sklearn.linear_model.LogisticRegression`](https://scikit-learn.org/stable/modules/generated/sklearn.linear_model.LogisticRegression.html) (*hint*: pay special attention to the examples in the documentation). In the code cell below, initialize a logistic regression model and fit it on `X` and `y`."
   ]
  },
  {
   "cell_type": "code",
   "execution_count": null,
   "id": "e1225171",
   "metadata": {},
   "outputs": [],
   "source": [
    "# TODO: complete this code cell\n",
    "lr_model = ...\n",
    "..."
   ]
  },
  {
   "cell_type": "markdown",
   "id": "72969053",
   "metadata": {},
   "source": [
    "We can now use the trained logistic regression model to \"diagnose\" patients. This can be done using the `predict` function (see the documentation for [`sklearn.linear_model.LogisticRegression`](https://scikit-learn.org/stable/modules/generated/sklearn.linear_model.LogisticRegression.html))."
   ]
  },
  {
   "cell_type": "markdown",
   "id": "39c20c8a",
   "metadata": {},
   "source": [
    "***Exercise 2.8.*** Using the `predict` function, compute the predictions for the first ten patients in `X`."
   ]
  },
  {
   "cell_type": "code",
   "execution_count": null,
   "id": "dd979ad0",
   "metadata": {},
   "outputs": [],
   "source": [
    "# TODO: your code here"
   ]
  },
  {
   "cell_type": "markdown",
   "id": "1f7aa594",
   "metadata": {},
   "source": [
    "We can also evaluate how \"good\" our model is at predicting the ground truth. We can use `score` function to compute the model's *accuracy* on the given data (see the documentation for [`sklearn.linear_model.LogisticRegression`](https://scikit-learn.org/stable/modules/generated/sklearn.linear_model.LogisticRegression.html)), although alternative evaluation metrics exist. "
   ]
  },
  {
   "cell_type": "markdown",
   "id": "ba35cff6",
   "metadata": {},
   "source": [
    "***Exercise 2.9.*** Use the `score` function to evaluate the accuracy of the logistic regression model on the training data given by `X` and `y`. Is the accuracy high? Would you use this model in practice?"
   ]
  },
  {
   "cell_type": "code",
   "execution_count": null,
   "id": "e7d57844",
   "metadata": {},
   "outputs": [],
   "source": [
    "# TODO: your code here"
   ]
  },
  {
   "cell_type": "markdown",
   "id": "45dad22c",
   "metadata": {},
   "source": [
    "***Disclaimer:*** Here, we have trained and evaluated the model on the *same* dataset. Therefore, it is likely that the accuracy above is overly optimistic (think of solving exercises in class and then having an exam on the *exact same* exercises). Ideally, we should train and test our models on two separate datasets."
   ]
  },
  {
   "cell_type": "markdown",
   "id": "ffe826d3",
   "metadata": {},
   "source": [
    "## Concluding Remarks\n",
    "\n",
    "You will learn more about the data cleaning, visualization and application of machine learning methods in the *Data Science for Medicine* course. If you are interested in exploring challenges in applied data analysis on your own, [Kaggle](https://www.kaggle.com) platform might be something for you!"
   ]
  }
 ],
 "metadata": {
  "kernelspec": {
   "display_name": "Python 3 (ipykernel)",
   "language": "python",
   "name": "python3"
  },
  "language_info": {
   "codemirror_mode": {
    "name": "ipython",
    "version": 3
   },
   "file_extension": ".py",
   "mimetype": "text/x-python",
   "name": "python",
   "nbconvert_exporter": "python",
   "pygments_lexer": "ipython3",
   "version": "3.8.12"
  }
 },
 "nbformat": 4,
 "nbformat_minor": 5
}
